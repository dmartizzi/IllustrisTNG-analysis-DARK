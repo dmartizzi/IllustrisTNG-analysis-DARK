{
 "cells": [
  {
   "cell_type": "code",
   "execution_count": 1,
   "metadata": {},
   "outputs": [],
   "source": [
    "import sys\n",
    "import os.path\n",
    "import numpy as np\n",
    "import scipy\n",
    "import matplotlib as mpl\n",
    "import matplotlib.pyplot as plt\n",
    "import requests\n",
    "import h5py"
   ]
  },
  {
   "cell_type": "code",
   "execution_count": 2,
   "metadata": {},
   "outputs": [],
   "source": [
    "def get(path, params=None):\n",
    "    # make HTTP GET request to path\n",
    "    r = requests.get(path, params=params, headers=headers)\n",
    "\n",
    "    # raise exception if response code is not HTTP SUCCESS (200)\n",
    "    r.raise_for_status()\n",
    "\n",
    "    if r.headers['content-type'] == 'application/json':\n",
    "        return r.json() # parse json responses automatically\n",
    "\n",
    "    if 'content-disposition' in r.headers:\n",
    "        filename = r.headers['content-disposition'].split(\"filename=\")[1]\n",
    "        with open(filename, 'wb') as f:\n",
    "            f.write(r.content)\n",
    "        return filename # return the filename string\n",
    "\n",
    "    return r"
   ]
  },
  {
   "cell_type": "code",
   "execution_count": 3,
   "metadata": {},
   "outputs": [],
   "source": [
    "def set_simulation(base_url,sim_name):\n",
    "    # Select the simulation specified by the user\n",
    "    r = get(base_url)\n",
    "    names = [sim['name'] for sim in r['simulations']]\n",
    "    if sim_name in names:\n",
    "        i = names.index(sim_name)\n",
    "        sim = get( r['simulations'][i]['url'] )\n",
    "        print(\"Box size = %f kpc/h\"%sim[\"boxsize\"])\n",
    "        print(\"DM particle mass = %f x 1e10 Msun/h\"%sim[\"mass_dm\"])\n",
    "        print(\"Gas particle mass = %f x 1e10 Msun/h\"%sim[\"mass_gas\"])\n",
    "        return sim\n",
    "    else:\n",
    "        print \"The selected simulation name doesn't exist!!!\"\n",
    "        sys.exit()"
   ]
  },
  {
   "cell_type": "code",
   "execution_count": 4,
   "metadata": {},
   "outputs": [],
   "source": [
    "def set_redshift(snap_url,sim_z):\n",
    "    # Find the appropriate snapshot for the selected redshift\n",
    "    isnap = len(snaps)-1\n",
    "    while sim_z >= snaps[isnap][\"redshift\"]:\n",
    "        isnap -= 1\n",
    "    return isnap, snaps[isnap][\"number\"], snaps[isnap][\"redshift\"]"
   ]
  },
  {
   "cell_type": "code",
   "execution_count": 5,
   "metadata": {},
   "outputs": [],
   "source": [
    "def get_subhalos(snap,mass_min,mass_max,vmax,lim):\n",
    "    # Select subhalos with given requirements\n",
    "    subs = get(snap[\"subhalos\"], {\"limit\" : lim})\n",
    "    # Set a stellar mass range and maximum circular velocity\n",
    "    search_query = \"?mass__gt=\" + str(mass_min) + \"&mass__lt=\" + str(mass_max) + \"&vmax__gt=\" + str(vmax)\n",
    "    search_url = snap[\"url\"]+\"/subhalos/\"+search_query\n",
    "    subhalos = get(search_url, {\"limit\" : lim})\n",
    "    return subhalos"
   ]
  },
  {
   "cell_type": "code",
   "execution_count": 6,
   "metadata": {},
   "outputs": [],
   "source": [
    "def make_projected_prof(cutout_hdf5,ptype_dic,rc,proj_axis,rmin,rmax,nbins,mdmpart):\n",
    "    # This function makes mass density profiles useful for gravitational lensing studies.\n",
    "    \n",
    "    # Initialize profile\n",
    "    nvars = int(1+3*len(ptype_dic.keys()))\n",
    "    shape = (nbins,nvars)\n",
    "    projected_prof = np.zeros(shape)\n",
    "    iprof_dic = {\"dm\":1,\"gas\":2,\"stars\":3,\"bhs\":4}\n",
    "    \n",
    "    # Radial Bins\n",
    "    rmin = np.log10(rmin)\n",
    "    rmax = np.log10(rmax)\n",
    "    dlogr = (rmax-rmin)/float(nbins)\n",
    "    for i in range(0,nbins):\n",
    "        projected_prof[i,0] = rmin + 0.5*dlogr + float(i)*dlogr\n",
    "        for ptype in ptype_dic.keys():\n",
    "            with h5py.File(cutout_hdf5,'r') as f:\n",
    "                rnorm = np.array([(f['PartType'+ptype_dic[ptype]]['Coordinates'][:,0]-rc[0])*proj_axis[0], \\\n",
    "                                  (f['PartType'+ptype_dic[ptype]]['Coordinates'][:,1]-rc[1])*proj_axis[1], \\\n",
    "                                  (f['PartType'+ptype_dic[ptype]]['Coordinates'][:,2]-rc[2])*proj_axis[2]])\n",
    "                rnorm = rnorm.T\n",
    "                rproj = np.sqrt((f['PartType'+ptype_dic[ptype]]['Coordinates'][:,0]-rc[0]-rnorm[:,0])**2+ \\\n",
    "                                (f['PartType'+ptype_dic[ptype]]['Coordinates'][:,1]-rc[1]-rnorm[:,1])**2+ \\\n",
    "                                (f['PartType'+ptype_dic[ptype]]['Coordinates'][:,2]-rc[2]-rnorm[:,2])**2)\n",
    "                rproj = np.log10(rproj)\n",
    "                del rnorm\n",
    "                try :\n",
    "                    mass = f['PartType'+ptype_dic[ptype]]['Masses'][:]\n",
    "                except :\n",
    "                    #print(\"Particle type %s does not exist for halo %d\"%(ptype,idsub))\n",
    "                    mass = np.array(len(rproj[:])*[mdmpart])\n",
    "                \n",
    "                # Surface densities in bins\n",
    "                for i in range(0,nbins):\n",
    "                    #print 'bin ',i, iprof_dic[ptype]\n",
    "                    ishell = np.logical_and(projected_prof[i,0]-0.5*dlogr < rproj, rproj <= projected_prof[i,0]+0.5*dlogr)\n",
    "                    icum = rproj <= projected_prof[i,0]\n",
    "                    shell = np.pi*(10**(2*(projected_prof[i,0]+0.5*dlogr))-10**(2*(projected_prof[i,0]-0.5*dlogr)))*1e6 # (pc/h)**2\n",
    "                    surf = np.pi*(10**(2*projected_prof[i,0]))*1e6 # (pc/h)**2\n",
    "                    ivar = iprof_dic[ptype]\n",
    "                    projected_prof[i,ivar] = np.sum(mass[icum])*1e10/surf # Msun/h/(pc/h)**2\n",
    "                    projected_prof[i,ivar+len(ptype_dic.keys())] = np.sum(mass[ishell])*1e10/shell # Msun/h/(pc/h)**2\n",
    "                    projected_prof[i,ivar+2*len(ptype_dic.keys())] = projected_prof[i,ivar] - projected_prof[i,ivar+len(ptype_dic.keys())]\n",
    "\n",
    "                del rproj,mass,ishell,icum\n",
    "        \n",
    "    return projected_prof "
   ]
  },
  {
   "cell_type": "code",
   "execution_count": 7,
   "metadata": {},
   "outputs": [],
   "source": [
    "# Input parameters \n",
    "# Select simulation and redshift \n",
    "sim_name = \"Illustris-3\" ## Name of the simulation\n",
    "sim_z = 0.0 ## Redshift of the snapshot\n",
    "mass_min = 1.0e11 / 1e10 / 0.6774 ## Minimum stellar mass in 1e10 Msun/h\n",
    "mass_max = 1.0e13 / 1e10 / 0.6774 ## Maximum stellar mass in 1e10 Msun/h\n",
    "vmax = 350 # Vmax cutoff in km/s\n",
    "lim = 1000 ## Maximum number of subhalos in list"
   ]
  },
  {
   "cell_type": "code",
   "execution_count": 8,
   "metadata": {},
   "outputs": [],
   "source": [
    "# read API key\n",
    "if os.path.exists('.api_key'):\n",
    "    api_key = np.loadtxt('.api_key',dtype=\"S50\")\n",
    "    api_key = str(api_key)\n",
    "elif os.path.exists('~/.api_key'):\n",
    "    api_key = np.loadtxt('~/.api_key',dtype=\"S50\")\n",
    "    api_key = str(api_key)\n",
    "else:\n",
    "    print \"Please, create file .api_key with your API key.\"\n",
    "    sys.exit()"
   ]
  },
  {
   "cell_type": "code",
   "execution_count": 9,
   "metadata": {},
   "outputs": [
    {
     "name": "stdout",
     "output_type": "stream",
     "text": [
      "Reading Illustris-3 simulation.\n",
      "Box size = 75000.000000 kpc/h\n",
      "DM particle mass = 0.028217 x 1e10 Msun/h\n",
      "Gas particle mass = 0.005668 x 1e10 Msun/h\n",
      "Selecting snapshot number 135 at redshift z = 2.220446e-16.\n"
     ]
    }
   ],
   "source": [
    "# URL to the API\n",
    "base_url = \"http://www.tng-project.org/api/\"\n",
    "headers = {\"api-key\": api_key}\n",
    "\n",
    "# Select the simulation\n",
    "print(\"Reading %s simulation.\"%sim_name)\n",
    "sim = set_simulation(base_url,sim_name)\n",
    "\n",
    "# Dark matter particle mass\n",
    "mdmpart = sim[\"mass_dm\"]\n",
    "    \n",
    "# List of simulation snapshots\n",
    "snaps = get( sim[\"snapshots\"] )\n",
    "    \n",
    "# Find the appropriate snapshot for the selected redshift\n",
    "snap_url = sim[\"snapshots\"]\n",
    "isnap, inumber, snap_z = set_redshift(snap_url,sim_z)\n",
    "snap = get(snaps[isnap][\"url\"])\n",
    "print(\"Selecting snapshot number %d at redshift z = %e.\"%(inumber,snap_z))"
   ]
  },
  {
   "cell_type": "code",
   "execution_count": 10,
   "metadata": {},
   "outputs": [
    {
     "name": "stdout",
     "output_type": "stream",
     "text": [
      "# of selected subhalos with 11.000000 < log10(Mstar) < 13.000000 = 57.\n"
     ]
    }
   ],
   "source": [
    "# Get subhalos in a given stellar mass range \n",
    "subhalos = get_subhalos(snap,mass_min,mass_max,vmax,lim)\n",
    "nselected = subhalos[\"count\"]\n",
    "print(\"# of selected subhalos with %f < log10(Mstar) < %f = %d.\"%(np.log10(1e10*mass_min*0.6774),np.log10(1e10*mass_max*0.6774),nselected))\n",
    "# Subhalo ids\n",
    "ids = [ subhalos['results'][i]['id'] for i in range(0,len(subhalos['results'][:])) ]"
   ]
  },
  {
   "cell_type": "code",
   "execution_count": 11,
   "metadata": {},
   "outputs": [
    {
     "name": "stdout",
     "output_type": "stream",
     "text": [
      "cutout_0.hdf5\n",
      "cutout_1.hdf5\n",
      "cutout_1.hdf5\n",
      "cutout_2.hdf5\n",
      "cutout_3.hdf5\n",
      "cutout_3.hdf5\n",
      "cutout_4.hdf5\n",
      "cutout_5.hdf5\n",
      "cutout_5.hdf5\n",
      "cutout_7.hdf5\n",
      "cutout_7.hdf5\n",
      "cutout_8.hdf5\n",
      "cutout_9.hdf5\n",
      "cutout_11.hdf5\n",
      "cutout_12.hdf5\n",
      "cutout_12.hdf5\n",
      "cutout_13.hdf5\n",
      "cutout_17.hdf5\n",
      "cutout_21.hdf5\n",
      "cutout_24.hdf5\n"
     ]
    },
    {
     "name": "stderr",
     "output_type": "stream",
     "text": [
      "/Users/dmartizzi/anaconda2/lib/python2.7/site-packages/ipykernel_launcher.py:21: RuntimeWarning: divide by zero encountered in log10\n",
      "/Users/dmartizzi/anaconda2/lib/python2.7/site-packages/ipykernel_launcher.py:20: RuntimeWarning: invalid value encountered in sqrt\n"
     ]
    },
    {
     "name": "stdout",
     "output_type": "stream",
     "text": [
      "cutout_27.hdf5\n",
      "cutout_31.hdf5\n",
      "cutout_32.hdf5\n",
      "cutout_44.hdf5\n",
      "cutout_70.hdf5\n",
      "cutout_72.hdf5\n",
      "cutout_75.hdf5\n",
      "cutout_77.hdf5\n",
      "cutout_82.hdf5\n",
      "cutout_87.hdf5\n",
      "cutout_88.hdf5\n",
      "cutout_89.hdf5\n",
      "cutout_91.hdf5\n",
      "cutout_93.hdf5\n",
      "cutout_94.hdf5\n",
      "cutout_96.hdf5\n",
      "cutout_97.hdf5\n",
      "cutout_101.hdf5\n",
      "cutout_102.hdf5\n",
      "cutout_107.hdf5\n",
      "cutout_110.hdf5\n",
      "cutout_113.hdf5\n",
      "cutout_114.hdf5\n",
      "cutout_120.hdf5\n",
      "cutout_121.hdf5\n",
      "cutout_123.hdf5\n",
      "cutout_124.hdf5\n",
      "cutout_127.hdf5\n",
      "cutout_130.hdf5\n",
      "cutout_137.hdf5\n",
      "cutout_158.hdf5\n",
      "cutout_160.hdf5\n",
      "cutout_163.hdf5\n",
      "cutout_169.hdf5\n",
      "cutout_170.hdf5\n",
      "cutout_177.hdf5\n",
      "cutout_234.hdf5\n"
     ]
    }
   ],
   "source": [
    "# Loop on all selected subhalo ids\n",
    "flag = 0\n",
    "cutout_dic = {}\n",
    "for idsub in ids:\n",
    "    sub_url = snap[\"url\"]+\"/subhalos/\"+str(idsub)\n",
    "    subhalo = get(sub_url)\n",
    "    # If you want the subhalo cutout\n",
    "    #cutout_url = subhalo[\"cutouts\"][\"subhalo\"]\n",
    "    # If you want the parent halo cutout\n",
    "    cutout_url = subhalo[\"cutouts\"][\"parent_halo\"]\n",
    "\n",
    "    # Subhalo center\n",
    "    rc = np.array([subhalo[\"pos_x\"], subhalo[\"pos_y\"], subhalo[\"pos_z\"]])\n",
    "\n",
    "    cutout_exists = os.path.isfile('cutout_'+str(subhalo[\"grnr\"])+'.hdf5')\n",
    "    if cutout_exists:\n",
    "        cutout_dic[subhalo[\"grnr\"]] = 'cutout_'+str(subhalo[\"grnr\"])+'.hdf5'\n",
    "        \n",
    "    if subhalo[\"grnr\"] not in cutout_dic.keys():\n",
    "        cutout_request = {'gas':'Coordinates,Masses','stars':'Coordinates,Masses','dm':'Coordinates','bhs':'Coordinates,Masses'}        \n",
    "        cutout_hdf5 = get(cutout_url, cutout_request)\n",
    "        cutout_dic[subhalo[\"grnr\"]] = cutout_hdf5\n",
    "    else :\n",
    "        cutout_hdf5 = cutout_dic[subhalo[\"grnr\"]]\n",
    "\n",
    "    print cutout_hdf5\n",
    "        \n",
    "    # Compute surface density profile for this subhalo\n",
    "    ptype_dic = {\"gas\" : \"0\", \"stars\" : \"4\", \"dm\" : \"1\", \"bhs\" : \"5\"}\n",
    "    rmin = 1.0e1 #kpc/h\n",
    "    rmax = 1.0e5 #kpc/h\n",
    "    nbins = 40 # 10 bins per dex\n",
    "\n",
    "    # Project along z axis\n",
    "    proj_axis = [0.0,0.0,1.0]\n",
    "    projected_profz = make_projected_prof(cutout_hdf5,ptype_dic,rc,proj_axis,rmin,rmax,nbins,mdmpart)\n",
    "    if flag == 0:\n",
    "        prof_tot = np.copy(projected_profz)\n",
    "        count = np.copy(projected_profz)\n",
    "        izero = count <= 0\n",
    "        ione = count > 0\n",
    "        count[izero] = 1.0e-20\n",
    "        count[ione] = 1\n",
    "        del ione, izero\n",
    "        flag = 1\n",
    "    else :\n",
    "        prof_tot = prof_tot + projected_profz\n",
    "        ione = projected_profz > 0\n",
    "        count[ione] = count[ione] + 1\n",
    "        del ione\n",
    "            \n",
    "    del cutout_url\n",
    "    del cutout_hdf5\n",
    "\n",
    "# Get the average profiles\n",
    "prof_tot = prof_tot/count"
   ]
  },
  {
   "cell_type": "code",
   "execution_count": 12,
   "metadata": {},
   "outputs": [
    {
     "name": "stderr",
     "output_type": "stream",
     "text": [
      "/Users/dmartizzi/anaconda2/lib/python2.7/site-packages/matplotlib/__init__.py:913: UserWarning: text.fontsize is deprecated and replaced with font.size; please use the latter.\n",
      "  warnings.warn(self.msg_depr % (key, alt_key))\n"
     ]
    },
    {
     "data": {
      "image/png": "[encoded data removed]",
      "text/plain": [
       "<matplotlib.figure.Figure at 0x111f195d0>"
      ]
     },
     "metadata": {
      "needs_background": "light"
     },
     "output_type": "display_data"
    }
   ],
   "source": [
    "# Plot the profiles \n",
    "\n",
    "params={'backend': 'ps','text.fontsize': 28,'axes.labelsize': 28,'text.fontsize': 28,'legend.fontsize': 18,\n",
    "        'xtick.labelsize': 28,'ytick.labelsize': 28,'lines.linewidth': 4,'axes.linewidth': 3,\n",
    "        'xtick.major.width': 3,'ytick.major.width': 3,'xtick.minor.width': 3,'ytick.minor.width': 3,\n",
    "        'xtick.major.size': 10,'ytick.major.size': 10,'xtick.minor.size': 5,'ytick.minor.size': 5,\n",
    "        'lines.markeredgewidth' : 3, 'lines.markersize': 6,\n",
    "        'text.usetex': True,'text.dvipnghack': True,'figure.figsize': [11,10]}\n",
    "mpl.rcParams.update(params)\n",
    "\n",
    "plt.clf()\n",
    "plt.xscale('log')\n",
    "plt.yscale('linear')\n",
    "plt.xlabel(r'${\\rm R \\, [Mpc/h]}$')\n",
    "plt.ylabel(r'${\\rm R \\Delta \\Sigma \\, [Mpc \\,M_{\\odot}/pc^2]}$')\n",
    "plt.xlim([0.02,20])\n",
    "plt.ylim([0,10])\n",
    "plt.plot(10**prof_tot[:,0]/1e3, 10**prof_tot[:,0]/1e3*prof_tot[:,9],'k-',label=sim_name+' - z='+str(sim_z)+' - DM')\n",
    "plt.plot(10**prof_tot[:,0]/1e3, 10**prof_tot[:,0]/1e3*prof_tot[:,10],'g-',label=sim_name+' - z='+str(sim_z)+' - Gas')\n",
    "plt.plot(10**prof_tot[:,0]/1e3, 10**prof_tot[:,0]/1e3*prof_tot[:,11],'r-',label=sim_name+' - z='+str(sim_z)+' - Stars')\n",
    "plt.plot(10**prof_tot[:,0]/1e3, 10**prof_tot[:,0]/1e3*prof_tot[:,12],'b-',label=sim_name+' - z='+str(sim_z)+' - BHs')\n",
    "plt.plot(10**prof_tot[:,0]/1e3, 10**prof_tot[:,0]/1e3*(prof_tot[:,9]+prof_tot[:,10]+prof_tot[:,11]+prof_tot[:,12]),'k--',label=sim_name+' - z='+str(sim_z)+' - Total')\n",
    "plt.legend(loc=1,frameon=False)\n",
    "#plt.savefig('DeltaSigma.png')\n",
    "plt.show()\n",
    "\n"
   ]
  }
 ],
 "metadata": {
  "kernelspec": {
   "display_name": "Python 2",
   "language": "python",
   "name": "python2"
  },
  "language_info": {
   "codemirror_mode": {
    "name": "ipython",
    "version": 2
   },
   "file_extension": ".py",
   "mimetype": "text/x-python",
   "name": "python",
   "nbconvert_exporter": "python",
   "pygments_lexer": "ipython2",
   "version": "2.7.15"
  }
 },
 "nbformat": 4,
 "nbformat_minor": 2
}
